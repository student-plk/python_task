{
 "cells": [
  {
   "cell_type": "code",
   "execution_count": 1,
   "id": "6bf0b145-6277-46c3-ad8b-35024fa043db",
   "metadata": {},
   "outputs": [
    {
     "name": "stdout",
     "output_type": "stream",
     "text": [
      "Requirement already satisfied: Pillow in c:\\users\\palak\\downloadsanaco\\lib\\site-packages (10.4.0)\n",
      "Note: you may need to restart the kernel to use updated packages.\n"
     ]
    }
   ],
   "source": [
    "pip install Pillow\n"
   ]
  },
  {
   "cell_type": "code",
   "execution_count": 2,
   "id": "7fae901e-68cc-479a-85f5-39f814186a53",
   "metadata": {},
   "outputs": [
    {
     "name": "stdout",
     "output_type": "stream",
     "text": [
      "Image saved as 'my_image.png'\n"
     ]
    }
   ],
   "source": [
    "from PIL import Image, ImageDraw, ImageFont\n",
    "\n",
    "# Image size (width x height)\n",
    "width, height = 800, 600\n",
    "\n",
    "# Create a blank RGB image with white background\n",
    "image = Image.new(\"RGB\", (width, height), color=\"white\")\n",
    "draw = ImageDraw.Draw(image)\n",
    "\n",
    "# Draw a rectangle\n",
    "draw.rectangle([(50, 50), (750, 150)], fill=\"#117475\", outline=\"black\", width=3)\n",
    "\n",
    "# Draw a circle (ellipse)\n",
    "draw.ellipse([(300, 200), (500, 400)], fill=\"#FF5733\", outline=\"black\", width=3)\n",
    "\n",
    "# Draw a diagonal line\n",
    "draw.line([(0, 0), (800, 600)], fill=\"black\", width=2)\n",
    "\n",
    "# Draw a polygon (triangle)\n",
    "draw.polygon([(100, 500), (400, 300), (700, 500)], fill=\"gold\", outline=\"black\")\n",
    "\n",
    "# Add some text (with default font)\n",
    "text = \"My Digital Art!\"\n",
    "draw.text((280, 450), text, fill=\"black\")\n",
    "\n",
    "# Optional: Use a custom font (if available)\n",
    "# font = ImageFont.truetype(\"arial.ttf\", 32)\n",
    "# draw.text((280, 450), text, font=font, fill=\"black\")\n",
    "\n",
    "# Save the image\n",
    "image.save(\"my_image.png\")\n",
    "print(\"Image saved as 'my_image.png'\")\n"
   ]
  },
  {
   "cell_type": "code",
   "execution_count": null,
   "id": "c00c5b3a-125f-4697-8198-238193d6588e",
   "metadata": {},
   "outputs": [],
   "source": []
  }
 ],
 "metadata": {
  "kernelspec": {
   "display_name": "Python 3 (ipykernel)",
   "language": "python",
   "name": "python3"
  },
  "language_info": {
   "codemirror_mode": {
    "name": "ipython",
    "version": 3
   },
   "file_extension": ".py",
   "mimetype": "text/x-python",
   "name": "python",
   "nbconvert_exporter": "python",
   "pygments_lexer": "ipython3",
   "version": "3.12.7"
  }
 },
 "nbformat": 4,
 "nbformat_minor": 5
}
